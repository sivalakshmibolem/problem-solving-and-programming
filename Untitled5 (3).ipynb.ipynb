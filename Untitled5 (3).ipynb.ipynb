{
 "cells": [
  {
   "cell_type": "markdown",
   "metadata": {},
   "source": [
    "### Problem 1:\n",
    "\n",
    "#### Problem statement:\n",
    "\n",
    "Procedure to generate multiplication tables. \n",
    "\n",
    "### Constrains:\n",
    "\n",
    "MT(3, 5, 7)-> 3 X 5 = 15\n",
    "3 X 6 = 18\n",
    "3 X 7 = 21\n"
   ]
  },
  {
   "cell_type": "code",
   "execution_count": 32,
   "metadata": {},
   "outputs": [
    {
     "name": "stdout",
     "output_type": "stream",
     "text": [
      "3 x 5 = 15\n",
      "3 x 6 = 18\n",
      "3 x 7 = 21\n"
     ]
    }
   ],
   "source": [
    "def mt(num,a,b):\n",
    "    for i in range(a, b+1):\n",
    "           print(num,'x',i,'=',num*i)\n",
    "            \n",
    "mt(3,5,7)"
   ]
  },
  {
   "cell_type": "markdown",
   "metadata": {},
   "source": [
    "### Problem 2 :\n",
    "\n",
    "#### Problemstatement:\n",
    "\n",
    "Procedure to print the list of factors of a given number.\n",
    "\n",
    "#### Constrains\n",
    "\n",
    "#### Testcases\n",
    "FactorList(6) -> 1 2 3 6\n",
    "FactorList (9) -> 1 3 9\n",
    "FactorList (19) -> 1 19\n"
   ]
  },
  {
   "cell_type": "code",
   "execution_count": 33,
   "metadata": {},
   "outputs": [
    {
     "name": "stdout",
     "output_type": "stream",
     "text": [
      "The factors of 6 are:\n",
      "1 \t2 \t3 \t6 \t"
     ]
    }
   ],
   "source": [
    "def fac(a):\n",
    "    print(\"The factors of\",a,\"are:\")\n",
    "    for i in range(1, a + 1):\n",
    "        if a % i == 0:\n",
    "               print(i,\"\\t\",end=\"\")\n",
    "            \n",
    "                      \n",
    "fac(6)\n"
   ]
  },
  {
   "cell_type": "markdown",
   "metadata": {},
   "source": [
    "### Problem 3:\n",
    "\n",
    "#### Probelmstatement:\n",
    "\n",
    "Procedure to check if a given number is Prime and returns a Boolean value.\n",
    "#### Constrains\n",
    "\n",
    "IsPrime(7) -> True\n",
    "IsPrime(9) -> False"
   ]
  },
  {
   "cell_type": "code",
   "execution_count": 34,
   "metadata": {},
   "outputs": [
    {
     "name": "stdout",
     "output_type": "stream",
     "text": [
      "its a prime \n"
     ]
    }
   ],
   "source": [
    "def prime(a):\n",
    "    \n",
    "    count = 1\n",
    "    for i in range(2, a):\n",
    "        if a%i == 0:\n",
    "            count = count+1\n",
    "    if count > 2 :\n",
    "        print (\"not a prime \")\n",
    "    else:\n",
    "        print (\"its a prime \")\n",
    "    \n",
    "    \n",
    "prime(17)\n"
   ]
  },
  {
   "cell_type": "markdown",
   "metadata": {},
   "source": [
    "### Problem 4:\n",
    "#### Problem statement:\n",
    "\n",
    "Procedure to count the number of digits in a given number.\n",
    "\n",
    "#### constrains:\n",
    "\n",
    "CountDigits(123456) -> 6\n",
    "CountDigits (0) -> "
   ]
  },
  {
   "cell_type": "code",
   "execution_count": null,
   "metadata": {},
   "outputs": [],
   "source": [
    "def dig(n):\n",
    "    count=0\n",
    "    while n>0:\n",
    "        n = n % 10\n",
    "        count = count+ 1\n",
    "        print(n)\n",
    "    \n",
    "dig(12)"
   ]
  },
  {
   "cell_type": "code",
   "execution_count": null,
   "metadata": {},
   "outputs": [],
   "source": [
    "def recursivepower(n, r):\n",
    "    if r==1:\n",
    "        return n\n",
    "    else:\n",
    "        return recursivepower(n, r-1) * n\n",
    "    \n",
    "recursivepower(2, 3)"
   ]
  },
  {
   "cell_type": "markdown",
   "metadata": {},
   "source": [
    "### Problem 5:\n",
    "#### problem statement :\n",
    "\n",
    "Towers of Hanoi"
   ]
  },
  {
   "cell_type": "code",
   "execution_count": null,
   "metadata": {},
   "outputs": [],
   "source": [
    "def moveTower(height,fromPole, toPole, withPole):\n",
    "    if height >= 1:\n",
    "        moveTower(height-1,fromPole,withPole,toPole)\n",
    "        moveDisk(fromPole,toPole)\n",
    "        moveTower(height-1,withPole,toPole,fromPole)\n",
    "\n",
    "def moveDisk(fp,tp):\n",
    "    print(\"moving disk from\",fp,\"to\",tp)\n",
    "\n",
    "moveTower(3,\"A\",\"B\",\"C\")\n"
   ]
  },
  {
   "cell_type": "markdown",
   "metadata": {},
   "source": [
    " ### Problem 6:\n",
    "#### Problem statement:\n",
    "\n",
    "Procedure to count the number of digits in a given number.\n",
    "#### constrains:\n",
    "\n",
    "CountDigits(123456) -> 6\n",
    "CountDigits (0) -> 1"
   ]
  },
  {
   "cell_type": "code",
   "execution_count": 3,
   "metadata": {},
   "outputs": [
    {
     "name": "stdout",
     "output_type": "stream",
     "text": [
      "Number of digits :  9\n"
     ]
    }
   ],
   "source": [
    "def countDigit(n): \n",
    "    count = 0\n",
    "    while n != 0: \n",
    "        n //= 10\n",
    "        count+= 1\n",
    "    return count \n",
    "n = 345289467\n",
    "print (\"Number of digits : % d\"%(countDigit(n)))"
   ]
  },
  {
   "cell_type": "markdown",
   "metadata": {},
   "source": [
    "### Problem 7:\n",
    "#### Problem Statement :\n",
    "\n",
    "Procedure to check if a given number is a Perfect Number. ( Perfect number is a number for which the sum of all it's divisors is equal to the number itself)\n",
    "\n",
    "#### constrains:\n",
    "                                                           \n",
    "IsPerfect(3) -> False\n",
    "IsPerfect (6) -> True"
   ]
  },
  {
   "cell_type": "code",
   "execution_count": 33,
   "metadata": {},
   "outputs": [
    {
     "data": {
      "text/plain": [
       "True"
      ]
     },
     "execution_count": 33,
     "metadata": {},
     "output_type": "execute_result"
    }
   ],
   "source": [
    "def isPerfect(n):\n",
    "    sum = 0\n",
    "    for i in range(1, n):\n",
    "        if(n % i == 0):\n",
    "            sum = sum + i\n",
    "    if(sum == n):\n",
    "        return True\n",
    "    else:\n",
    "        return False\n",
    "    \n",
    "isPerfect(28)\n",
    "  "
   ]
  },
  {
   "cell_type": "markdown",
   "metadata": {},
   "source": [
    "### Problem 8:\n",
    "#### Problem statement :\n",
    "\n",
    "Procedure to generate the first N perfect numbers. \n",
    "\n",
    "GeneratePerfect(2) -> 6 28\n",
    "GeneratePerfect (4) -> 6 28 496 8128"
   ]
  },
  {
   "cell_type": "code",
   "execution_count": 36,
   "metadata": {},
   "outputs": [
    {
     "data": {
      "text/plain": [
       "[6, 28, 496, 8128]"
      ]
     },
     "execution_count": 36,
     "metadata": {},
     "output_type": "execute_result"
    }
   ],
   "source": [
    "def isPerfect(n):\n",
    "    sum = 0\n",
    "    for i in range(1, n):\n",
    "        if(n % i == 0):\n",
    "            sum = sum + i\n",
    "    if(sum == n):\n",
    "        return True\n",
    "    else:\n",
    "        return False\n",
    "\n",
    "def generatePerfect(num):\n",
    "    list1 = []\n",
    "    count = 1\n",
    "    countPerfect = 1\n",
    "    while(countPerfect <= num):\n",
    "            if(isPerfect(count) == True):\n",
    "                list1.append(count)\n",
    "                countPerfect = countPerfect + 1\n",
    "            count = count + 1\n",
    "    return list1\n",
    "\n",
    "generatePerfect(4)"
   ]
  }
 ],
 "metadata": {
  "kernelspec": {
   "display_name": "Python 3",
   "language": "python",
   "name": "python3"
  },
  "language_info": {
   "codemirror_mode": {
    "name": "ipython",
    "version": 3
   },
   "file_extension": ".py",
   "mimetype": "text/x-python",
   "name": "python",
   "nbconvert_exporter": "python",
   "pygments_lexer": "ipython3",
   "version": "3.7.3"
  }
 },
 "nbformat": 4,
 "nbformat_minor": 2
}
