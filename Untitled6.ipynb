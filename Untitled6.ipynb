{
 "cells": [
  {
   "cell_type": "markdown",
   "metadata": {},
   "source": [
    "### problem 1:\n",
    "#### problem statement: \n",
    " \n",
    " Gcd of two numbers"
   ]
  },
  {
   "cell_type": "code",
   "execution_count": 2,
   "metadata": {},
   "outputs": [
    {
     "data": {
      "text/plain": [
       "3"
      ]
     },
     "execution_count": 2,
     "metadata": {},
     "output_type": "execute_result"
    }
   ],
   "source": [
    "def gcd(a, b):\n",
    "    if b % a == 0:\n",
    "        return a\n",
    "    else:\n",
    "        return gcd(b % a, a)\n",
    "    \n",
    "gcd(12,39)"
   ]
  },
  {
   "cell_type": "markdown",
   "metadata": {},
   "source": [
    "### problem 2:\n",
    "#### problem statement\n",
    "gcd iteration\n"
   ]
  },
  {
   "cell_type": "code",
   "execution_count": 12,
   "metadata": {},
   "outputs": [
    {
     "data": {
      "text/plain": [
       "3"
      ]
     },
     "execution_count": 12,
     "metadata": {},
     "output_type": "execute_result"
    }
   ],
   "source": [
    "def ite(a, b):\n",
    "    r = b % a\n",
    "    if(r == 0):\n",
    "            return a\n",
    "    while r != 0:\n",
    "            r = b % a \n",
    "            b = a\n",
    "            a = r\n",
    "            \n",
    "    return b\n",
    "    \n",
    "ite(12, 39)"
   ]
  },
  {
   "cell_type": "markdown",
   "metadata": {},
   "source": [
    "### Problem 3:\n",
    "#### Problemstatement:\n",
    " Towers of Hanoi\n",
    " "
   ]
  },
  {
   "cell_type": "code",
   "execution_count": 13,
   "metadata": {},
   "outputs": [
    {
     "name": "stdout",
     "output_type": "stream",
     "text": [
      "moving disk from A to B\n",
      "moving disk from A to C\n",
      "moving disk from B to C\n",
      "moving disk from A to B\n",
      "moving disk from C to A\n",
      "moving disk from C to B\n",
      "moving disk from A to B\n"
     ]
    }
   ],
   "source": [
    "def moveTower(height,fromPole, toPole, withPole):\n",
    "    if height >= 1:\n",
    "        moveTower(height-1,fromPole,withPole,toPole)\n",
    "        moveDisk(fromPole,toPole)\n",
    "        moveTower(height-1,withPole,toPole,fromPole)\n",
    "\n",
    "def moveDisk(fp,tp):\n",
    "    print(\"moving disk from\",fp,\"to\",tp)\n",
    "\n",
    "moveTower(3,\"A\",\"B\",\"C\")"
   ]
  },
  {
   "cell_type": "code",
   "execution_count": 23,
   "metadata": {},
   "outputs": [
    {
     "name": "stdout",
     "output_type": "stream",
     "text": [
      "move  1 disk from  A to C\n",
      "move  2 disk from  A to B\n",
      "move  1 disk from  C to B\n",
      "move  3 disk from  A to C\n",
      "move  1 disk from  B to A\n",
      "move  2 disk from  B to C\n",
      "move  1 disk from  A to C\n"
     ]
    }
   ],
   "source": [
    "def Hanoi(n, source, temp, dest):\n",
    "    if n == 1:\n",
    "        print('move ', n, 'disk from ', source, 'to', dest)\n",
    "        return \n",
    "    else:\n",
    "        Hanoi(n-1, source, dest, temp)\n",
    "        print('move ', n, 'disk from ', source, 'to', dest)\n",
    "        Hanoi(n-1, temp, source, dest)\n",
    "        return\n",
    "Hanoi(3, 'A', 'B', 'C')\n",
    "\n",
    "        "
   ]
  },
  {
   "cell_type": "markdown",
   "metadata": {},
   "source": [
    "### Problem 4:\n",
    "\n",
    "#### Problem statement:\n",
    "\n",
    "Generating the  nth Fibonacci number"
   ]
  },
  {
   "cell_type": "code",
   "execution_count": null,
   "metadata": {},
   "outputs": [],
   "source": [
    "def Fibonacci_series(Number):\n",
    "    if(Number == 0):\n",
    "        return 0\n",
    "    elif(Number == 1):\n",
    "        return 1\n",
    "    else:\n",
    "        return (Fibonacci_series(Number - 2)+ Fibonacci_series(Number - 1))\n",
    "Number = int(input(\"\\nPlease Enter the Range Number: \"))\n",
    "for Num in range(0, Number):\n",
    "           print(Fibonacci_series(Num))"
   ]
  },
  {
   "cell_type": "code",
   "execution_count": null,
   "metadata": {},
   "outputs": [],
   "source": []
  }
 ],
 "metadata": {
  "kernelspec": {
   "display_name": "Python 3",
   "language": "python",
   "name": "python3"
  },
  "language_info": {
   "codemirror_mode": {
    "name": "ipython",
    "version": 3
   },
   "file_extension": ".py",
   "mimetype": "text/x-python",
   "name": "python",
   "nbconvert_exporter": "python",
   "pygments_lexer": "ipython3",
   "version": "3.7.3"
  }
 },
 "nbformat": 4,
 "nbformat_minor": 2
}
