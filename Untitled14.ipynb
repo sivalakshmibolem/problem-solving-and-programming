{
 "cells": [
  {
   "cell_type": "markdown",
   "metadata": {},
   "source": [
    "### problem 4:\n",
    "#### on may 10th 2019:\n",
    "\n",
    "Define a function to convert a binary number to the corresponding decimal number\n",
    "\n",
    "\n",
    "binaryToDecimal(1100) -> 12\n",
    "binaryToDecimal(1010) -> 10\n",
    "binaryToDecimal(111000) -> 56"
   ]
  },
  {
   "cell_type": "code",
   "execution_count": 1,
   "metadata": {},
   "outputs": [
    {
     "name": "stdout",
     "output_type": "stream",
     "text": [
      "14\n",
      "10\n",
      "56\n"
     ]
    }
   ],
   "source": [
    "def binarytodecimal(n):\n",
    "    count=-1\n",
    "    sum=0\n",
    "    k=len(str(n))\n",
    "    r=str(n)\n",
    "    \n",
    "    for i in range (k-1,-1,-1):\n",
    "        count=count+1\n",
    "        number=int(r[i])*(2**count)\n",
    "        sum=sum+number\n",
    "    return sum\n",
    "    \n",
    "print(binarytodecimal(1110))\n",
    "print(binarytodecimal(1010))\n",
    "print(binarytodecimal(111000))\n"
   ]
  },
  {
   "cell_type": "markdown",
   "metadata": {},
   "source": [
    "### problem 5:\n",
    "#### Problem statement :\n",
    "\n",
    "Define a function to convert a decimal number to the corresponding binary number\n",
    "\n",
    "decimalToBinary(15) -> 1111\n",
    "decimalToBinary(1) -> 1\n"
   ]
  },
  {
   "cell_type": "code",
   "execution_count": 6,
   "metadata": {},
   "outputs": [
    {
     "name": "stdout",
     "output_type": "stream",
     "text": [
      "1111 \n",
      "1 \n"
     ]
    }
   ],
   "source": [
    "def decimaltobinary(n):\n",
    "    \n",
    "    rem=\" \"\n",
    "    while(n!=0):\n",
    "        r=n%2\n",
    "        n=int(n/2)\n",
    "        rem=rem+str(r)\n",
    "    s=''.join(reversed(rem))\n",
    "    print(s)\n",
    "        \n",
    "decimaltobinary(15)\n",
    "decimaltobinary(1)\n"
   ]
  },
  {
   "cell_type": "markdown",
   "metadata": {},
   "source": [
    "### Problem 8:\n",
    "#### problem statement:\n",
    "\n",
    "Define a function to find the average of all the outer elements of an N x M matrix.\n",
    "averageOuterMatrix([[1, 2, 3], [4, 5, 6], [7, 8, 9], [10, 11, 12]] -> 4.5\n"
   ]
  },
  {
   "cell_type": "code",
   "execution_count": 7,
   "metadata": {},
   "outputs": [
    {
     "data": {
      "text/plain": [
       "6.5"
      ]
     },
     "execution_count": 7,
     "metadata": {},
     "output_type": "execute_result"
    }
   ],
   "source": [
    "def averageOuterMatrix(list):\n",
    "    sum=0\n",
    "    count=0\n",
    "    for i in range(0,len(list)):\n",
    "        count=count+1\n",
    "        sum=sum+list[i][2]+list[i][0]\n",
    "        avg=sum/(2*count)\n",
    "    return avg      \n",
    "\n",
    "averageOuterMatrix([[1, 2, 3], [4, 5, 6], [7, 8, 9], [10, 11, 12]])\n"
   ]
  },
  {
   "cell_type": "markdown",
   "metadata": {},
   "source": [
    "### Problem 6:\n",
    "#### Problem statement:\n",
    "\n",
    "Define a function to check if a given year is a leap year. Returns a boolean value\n",
    "2000 -> True\n",
    "1900 -> False\n",
    "2012 -> True\n",
    "2020 -> True\n",
    "0200 -> False"
   ]
  },
  {
   "cell_type": "code",
   "execution_count": 9,
   "metadata": {},
   "outputs": [
    {
     "name": "stdout",
     "output_type": "stream",
     "text": [
      "False\n",
      "True\n",
      "False\n",
      "True\n",
      "False\n",
      "True\n",
      "False\n",
      "True\n"
     ]
    }
   ],
   "source": [
    "def leapyear(n):\n",
    "    if(n%400==0):\n",
    "        return True\n",
    "    elif(n%100==0):\n",
    "        return False\n",
    "    elif(n%4==0):\n",
    "        return True\n",
    "    \n",
    "    \n",
    "print(leapyear(1900) )\n",
    "print(leapyear(2000))\n",
    "print(leapyear(200))\n",
    "print(leapyear(2012))\n",
    "False\n",
    "True\n",
    "False\n",
    "True\n",
    "def leapyear(n):\n",
    "    if(n%400==0)or(n%100!=0 and n%4==0):\n",
    "        return True\n",
    "    else:\n",
    "        return False\n",
    "    \n",
    "    \n",
    "print(leapyear(1900) )\n",
    "print(leapyear(2000))\n",
    "print(leapyear(200))\n",
    "print(leapyear(2012))\n"
   ]
  },
  {
   "cell_type": "markdown",
   "metadata": {},
   "source": [
    "### Problem 7:\n",
    "#### Problem statement:\n",
    "\n",
    "Design a Python script to determine the difference in date for given two dates in YYYY:MM:DD\n",
    "format(0 <= YYYY <= 9999, 1 <= MM <= 12, 1 <= DD <= 31) following the leap year rules. \n",
    "Return the total number of days existing between the two dates.\n",
    "\n",
    "#### Test cases:\n",
    "\n",
    "dateDifference('2019:05:10', '2019:05:01') -> 9\n",
    "dateDifference('0003:03:03', '0003:06:06') -> 85"
   ]
  },
  {
   "cell_type": "code",
   "execution_count": 15,
   "metadata": {},
   "outputs": [
    {
     "ename": "NameError",
     "evalue": "name 'dateDifference' is not defined",
     "output_type": "error",
     "traceback": [
      "\u001b[1;31m---------------------------------------------------------------------------\u001b[0m",
      "\u001b[1;31mNameError\u001b[0m                                 Traceback (most recent call last)",
      "\u001b[1;32m<ipython-input-15-9821dcc6b32f>\u001b[0m in \u001b[0;36m<module>\u001b[1;34m\u001b[0m\n\u001b[0;32m     14\u001b[0m         \u001b[1;32mreturn\u001b[0m \u001b[1;36m28\u001b[0m\u001b[1;33m\u001b[0m\u001b[1;33m\u001b[0m\u001b[0m\n\u001b[0;32m     15\u001b[0m \u001b[1;33m\u001b[0m\u001b[0m\n\u001b[1;32m---> 16\u001b[1;33m \u001b[0mdateDifference\u001b[0m\u001b[1;33m(\u001b[0m\u001b[1;34m'2019:05:10'\u001b[0m\u001b[1;33m,\u001b[0m \u001b[1;34m'2019:05:01'\u001b[0m\u001b[1;33m)\u001b[0m\u001b[1;33m\u001b[0m\u001b[1;33m\u001b[0m\u001b[0m\n\u001b[0m",
      "\u001b[1;31mNameError\u001b[0m: name 'dateDifference' is not defined"
     ]
    }
   ],
   "source": [
    "def datediffernce(date1,date2):\n",
    "    return \n",
    "    \n",
    "def numDaysInMonth(month):\n",
    "    monthDays={'01':31,'03':31,'04':30,'05':31,'06':30,'07':31,'08':31,'09':30,'10':31,'11':30,'12':31}\n",
    "    if(month<7 and month!=2 and month%2==0) or (month>7 and month%2!=0):\n",
    "        return 30\n",
    "    else:\n",
    "        return 31\n",
    "def Daysinfeb(year):  \n",
    "    if(n%400==0)or(n%100!=0 and n%4==0):\n",
    "        return 29\n",
    "    else:\n",
    "        return 28\n",
    "\n"
   ]
  },
  {
   "cell_type": "markdown",
   "metadata": {},
   "source": [
    "### Problem 9:\n",
    "#### Problem Statement\n",
    "Define a function to print the sequence of spiral pattern elements for a given N x N matrix\n",
    "\n",
    "### Constraint\n",
    "spiralPattern([[1,2,3], [4,5,6], [7,8,9]]) -> 1 2 3 6 9 8 7 4 5\n",
    "\n"
   ]
  },
  {
   "cell_type": "code",
   "execution_count": 32,
   "metadata": {},
   "outputs": [
    {
     "name": "stdout",
     "output_type": "stream",
     "text": [
      "1 2 3 6 9 8 7 4 5 "
     ]
    }
   ],
   "source": [
    "def sprialpatt(c):\n",
    "    for i in range (0,len(c)-1):\n",
    "        for top in range (i,len(c)-i):\n",
    "            print(c[i][top],'',end='')         \n",
    "        for right in range (i + 1,(len(c)-1) -i):\n",
    "            print (c[right][(len(c)-1)  -i],'',end='')\n",
    "        for bottom in range ((len(c)-1) -i,i, -1):\n",
    "            print (c[(len(c)-1)-i][bottom],'',end='')\n",
    "        for left in range ((len(c)-1) -i,i, -1):\n",
    "            print (c[left][i],'', end='')\n",
    "                                                \n",
    "sprialpatt([[1,2,3], [4,5,6], [7,8,9]])               \n",
    "            "
   ]
  },
  {
   "cell_type": "code",
   "execution_count": null,
   "metadata": {},
   "outputs": [],
   "source": []
  },
  {
   "cell_type": "code",
   "execution_count": null,
   "metadata": {},
   "outputs": [],
   "source": []
  }
 ],
 "metadata": {
  "kernelspec": {
   "display_name": "Python 3",
   "language": "python",
   "name": "python3"
  },
  "language_info": {
   "codemirror_mode": {
    "name": "ipython",
    "version": 3
   },
   "file_extension": ".py",
   "mimetype": "text/x-python",
   "name": "python",
   "nbconvert_exporter": "python",
   "pygments_lexer": "ipython3",
   "version": "3.7.3"
  }
 },
 "nbformat": 4,
 "nbformat_minor": 2
}
