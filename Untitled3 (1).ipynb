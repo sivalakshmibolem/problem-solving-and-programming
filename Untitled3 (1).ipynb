{
 "cells": [
  {
   "cell_type": "markdown",
   "metadata": {},
   "source": [
    "### Problem1:\n",
    "\n",
    "#### Problem Statement :\n",
    "\n",
    "Given 2 int values, return True if one is negative and Second parameter is positive or vise versa. Except if the  third parameter  is True, then return True only if  first two parameters  are negative.\n",
    "\n",
    "#### Constrains:\n",
    "\n",
    "#### Test Cases:\n",
    "\n",
    "    * pos_neg(1, -1, False) → True\n",
    "    * pos_neg(-1, 1, False) → True\n",
    "    * pos_neg(-4, -5, True) → True\n",
    "    * pos_neg(-1,  1, True) -> False \n",
    "    * pos_neg(1,   6, True) -> False\n",
    "    * pos_neg(-1, -9, False) ->False \n",
    " \n",
    "#### Explanation\n",
    " \n"
   ]
  },
  {
   "cell_type": "code",
   "execution_count": 21,
   "metadata": {},
   "outputs": [
    {
     "name": "stdout",
     "output_type": "stream",
     "text": [
      "True\n",
      "True\n",
      "True\n",
      "False\n",
      "False\n",
      "False\n"
     ]
    }
   ],
   "source": [
    "def pos_neg(n1, n2, bl):\n",
    "    if (n1 < 0 and n2 > 0 and bl == False) or (n1 > 0 and n2 < 0 and bl == False) or (n1 < 0 and n2 < 0 and bl == True):\n",
    "         return True\n",
    "    else:\n",
    "            return False\n",
    "print(pos_neg(1,  -1, False)) \n",
    "print(pos_neg(-1,  1, False))\n",
    "print(pos_neg(-4, -5, True))\n",
    "print(pos_neg(-1,  1, True))\n",
    "print(pos_neg(1,  6, True))\n",
    "print(pos_neg(-1, -9, False))"
   ]
  },
  {
   "cell_type": "markdown",
   "metadata": {},
   "source": [
    "### Problem 2:\n",
    "\n",
    "#### Problem Statement :\n",
    "\n",
    "  Create a Random Number Generator as a Procedure which takes the Range(lb, ub) and returns a Random number in the given range. lb < random number < ub\n",
    "#### Constrains :\n",
    "\n",
    "#### Test Cases:\n",
    " * RandomGenerator(1, 100) -> will be in range (1, 100)\n",
    " "
   ]
  },
  {
   "cell_type": "code",
   "execution_count": 30,
   "metadata": {},
   "outputs": [
    {
     "data": {
      "text/plain": [
       "78"
      ]
     },
     "execution_count": 30,
     "metadata": {},
     "output_type": "execute_result"
    }
   ],
   "source": [
    "from random import randrange \n",
    "def randomGenerator(lb, ub) :\n",
    "    return randrange (lb+1, ub)\n",
    "    \n",
    "randomGenerator(1, 101)"
   ]
  },
  {
   "cell_type": "code",
   "execution_count": 31,
   "metadata": {},
   "outputs": [
    {
     "data": {
      "text/plain": [
       "50"
      ]
     },
     "execution_count": 31,
     "metadata": {},
     "output_type": "execute_result"
    }
   ],
   "source": [
    " import random \n",
    "def randomGenerator(lb, ub) :\n",
    "    return random.randrange (lb+1, ub)\n",
    "    \n",
    "randomGenerator(1, 101)"
   ]
  },
  {
   "cell_type": "markdown",
   "metadata": {},
   "source": [
    "### Problem 3:\n",
    "\n",
    "#### Problem Statement :\n",
    "\n",
    "write a program to given an integer N ,calculate sum of N  random  numbers. \n",
    "\n",
    "#### Constrains :\n",
    "\n",
    "Random Numbers in the range [0, 1000000000000000]\n",
    "\n",
    "#### Test Cases:"
   ]
  },
  {
   "cell_type": "code",
   "execution_count": 48,
   "metadata": {},
   "outputs": [
    {
     "data": {
      "text/plain": [
       "48514569035641834"
      ]
     },
     "execution_count": 48,
     "metadata": {},
     "output_type": "execute_result"
    }
   ],
   "source": [
    "import random\n",
    "\n",
    "def sumRandomNumbers(n, lb, ub):\n",
    "    sum = 0\n",
    "    for count in range (1, n+1) :\n",
    "         sum = sum + random.randint(lb, ub)\n",
    "    return sum\n",
    "\n",
    "sumRandomNumbers(100, 1000000000000, 1000000000000000)\n",
    "\n"
   ]
  },
  {
   "cell_type": "markdown",
   "metadata": {},
   "source": [
    "### Problem 4:\n",
    "\n",
    "#### Problem Statement :\n",
    "\n",
    "Design a procedure to perform Linear search on list of N unsorted unique numbers. It take an array and the key element to be searched and returns the index of the element of key element if found. Else returns -1\n",
    "\n",
    "#### Constraints:\n",
    "\n",
    "#### TestCases:\n",
    "LinearSearch( a[5,4,3,2,1], 4) -> 2\n",
    "LinearSearch( a[90, 123, 324, 21, 56], 22) -> -1"
   ]
  },
  {
   "cell_type": "code",
   "execution_count": 56,
   "metadata": {},
   "outputs": [
    {
     "name": "stdout",
     "output_type": "stream",
     "text": [
      "-1\n"
     ]
    },
    {
     "data": {
      "text/plain": [
       "2"
      ]
     },
     "execution_count": 56,
     "metadata": {},
     "output_type": "execute_result"
    }
   ],
   "source": [
    "def linearsearch(a, key) :\n",
    "    for i in range (0, len(a)):\n",
    "        if(a[i] == key):\n",
    "            return i\n",
    "    return -1\n",
    "\n",
    "print (linearsearch ([15, 12, 9 ,6 ,3 ,-3], 0))\n",
    "linearsearch ([132, 543, 567, 789], 567)"
   ]
  },
  {
   "cell_type": "markdown",
   "metadata": {},
   "source": [
    "### Problem5:\n",
    "#### Problem Statement :\n",
    "write a program to evaluate the polynomial\n",
    "\n",
    "### Constrains :\n",
    "f(x)= x^3 + 2 X^2 + 3 X - 10 for x in the range [1, 1000]\n",
    "\n",
    "#### Test Cases:\n",
    "x=2"
   ]
  },
  {
   "cell_type": "code",
   "execution_count": 65,
   "metadata": {},
   "outputs": [
    {
     "name": "stdout",
     "output_type": "stream",
     "text": [
      "12\n"
     ]
    }
   ],
   "source": [
    "def polynomial(x):\n",
    "    c=(x**3)+2 * (x*2) + 3*x - 10\n",
    "    print(c)\n",
    "polynomial(2)"
   ]
  },
  {
   "cell_type": "markdown",
   "metadata": {},
   "source": [
    "### Problem 6:\n",
    "#### Problem Statement :\n",
    "Determining whether a number is Even or Odd\n",
    "### Constrains :\n",
    "#### Test Cases:\n",
    "x=9"
   ]
  },
  {
   "cell_type": "code",
   "execution_count": 81,
   "metadata": {},
   "outputs": [
    {
     "name": "stdout",
     "output_type": "stream",
     "text": [
      "is odd\n",
      "9\n"
     ]
    }
   ],
   "source": [
    "def eo(x):\n",
    "       \n",
    "        if (x % 2 == 0):\n",
    "            print (\"is even\")\n",
    "            print (x)\n",
    "    \n",
    "        else:\n",
    "            print(\"is odd\")\n",
    "            print (x)\n",
    "eo(9)  \n",
    "    "
   ]
  },
  {
   "cell_type": "markdown",
   "metadata": {},
   "source": [
    "### Problem 6:\n",
    "\n",
    "#### Problem Statement :\n",
    "\n",
    "Finding the greatest of 3 numbers\n",
    "\n",
    "### Constrains :\n",
    "\n",
    "#### Test Cases:\n",
    "1. if(a>b) and (a>c) then a\n",
    "2. if(a>c) and (b>c) then b else c"
   ]
  },
  {
   "cell_type": "code",
   "execution_count": 89,
   "metadata": {},
   "outputs": [
    {
     "name": "stdout",
     "output_type": "stream",
     "text": [
      "45\n"
     ]
    }
   ],
   "source": [
    "def great(a, b, c):\n",
    "    if (a > b) and (a > c):\n",
    "            print(a)\n",
    "    \n",
    "    elif(a > c) and (b > c):\n",
    "            print(b)\n",
    "    else:\n",
    "        print(c)\n",
    "great(45,1,19)"
   ]
  },
  {
   "cell_type": "markdown",
   "metadata": {},
   "source": [
    "### Problem 7:\n",
    "\n",
    "#### Problem Statement :\n",
    "\n",
    "Testing Divisibility with 2 and 3 but not 4\n",
    "\n",
    "### Constrains :"
   ]
  },
  {
   "cell_type": "code",
   "execution_count": 97,
   "metadata": {},
   "outputs": [
    {
     "name": "stdout",
     "output_type": "stream",
     "text": [
      "a is divisble:\n"
     ]
    }
   ],
   "source": [
    "def div(a):\n",
    "    if(a%2 == 0 and a%3 == 0 and (a%4)!= 0):\n",
    "        print(\"a is divisble:\")\n",
    "    else:\n",
    "        print(\"a is not divisble\")\n",
    "    \n",
    "    \n",
    "div(6)\n"
   ]
  },
  {
   "cell_type": "markdown",
   "metadata": {},
   "source": [
    "### Problem 8:\n",
    "\n",
    "#### problem Statement:\n",
    "\n",
    "Given 2 ints, a and b, return True if one if them is 10 or if their sum is 10.\n",
    "\n",
    "### TestCases:\n",
    "\n",
    "1 makes10(9, 10) → True\n",
    "2 makes10(9, 9) → False\n",
    "3 makes10(1, 9) → True"
   ]
  },
  {
   "cell_type": "code",
   "execution_count": 124,
   "metadata": {},
   "outputs": [
    {
     "name": "stdout",
     "output_type": "stream",
     "text": [
      "11\n"
     ]
    },
    {
     "data": {
      "text/plain": [
       "False"
      ]
     },
     "execution_count": 124,
     "metadata": {},
     "output_type": "execute_result"
    }
   ],
   "source": [
    "def num(a, b):\n",
    "    c = a+b\n",
    "    print (c)\n",
    "    if(a == 10 or b == 10 or c== 10):\n",
    "        return True\n",
    "    else:\n",
    "        return False\n",
    "num(9, 2)"
   ]
  },
  {
   "cell_type": "markdown",
   "metadata": {},
   "source": [
    "### probelm 9:\n",
    "#### problem statement :\n",
    "Given an int n, return True if it is within 10 of 100 or 200. Note: abs(num) computes the absolute value of a number.\n",
    "\n",
    "#### Test cases\n",
    "\n",
    "1.near_hundred(93) → True\n",
    "\n",
    "2.near_hundred(90) → True\n",
    "\n",
    "3.near_hundred(89) → False"
   ]
  },
  {
   "cell_type": "code",
   "execution_count": 134,
   "metadata": {},
   "outputs": [
    {
     "data": {
      "text/plain": [
       "True"
      ]
     },
     "execution_count": 134,
     "metadata": {},
     "output_type": "execute_result"
    }
   ],
   "source": [
    "def absl(n):\n",
    "    if(89<n<101 or 189<n<201):\n",
    "        return True\n",
    "    else:\n",
    "        return False\n",
    "    \n",
    "absl(97)"
   ]
  },
  {
   "cell_type": "markdown",
   "metadata": {},
   "source": [
    "### problem:\n",
    "#### problems statement:\n",
    "\n",
    "factrioalof given number\n"
   ]
  },
  {
   "cell_type": "code",
   "execution_count": 135,
   "metadata": {},
   "outputs": [
    {
     "data": {
      "text/plain": [
       "720"
      ]
     },
     "execution_count": 135,
     "metadata": {},
     "output_type": "execute_result"
    }
   ],
   "source": [
    "def factorial(num):\n",
    "    if num == 1:\n",
    "        return num\n",
    "    else:\n",
    "        return num * factorial(num - 1)\n",
    "    \n",
    "    \n",
    "factorial(6)"
   ]
  },
  {
   "cell_type": "markdown",
   "metadata": {},
   "source": [
    "### Problem:\n",
    "#### Problems statement:\n",
    "Designing procedures for Basic Arithmetic operations"
   ]
  },
  {
   "cell_type": "code",
   "execution_count": null,
   "metadata": {},
   "outputs": [],
   "source": []
  }
 ],
 "metadata": {
  "kernelspec": {
   "display_name": "Python 3",
   "language": "python",
   "name": "python3"
  },
  "language_info": {
   "codemirror_mode": {
    "name": "ipython",
    "version": 3
   },
   "file_extension": ".py",
   "mimetype": "text/x-python",
   "name": "python",
   "nbconvert_exporter": "python",
   "pygments_lexer": "ipython3",
   "version": "3.7.3"
  }
 },
 "nbformat": 4,
 "nbformat_minor": 2
}
