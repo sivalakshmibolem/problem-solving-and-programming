{
 "cells": [
  {
   "cell_type": "markdown",
   "metadata": {},
   "source": [
    "### Problem 1:\n",
    "\n",
    "#### Problem statement:\n",
    "\n",
    "Procedure to generate multiplication tables. \n",
    "\n",
    "### Constrains:\n",
    "\n",
    "MT(3, 5, 7)-> 3 X 5 = 15\n",
    "3 X 6 = 18\n",
    "3 X 7 = 21\n"
   ]
  },
  {
   "cell_type": "code",
   "execution_count": 32,
   "metadata": {},
   "outputs": [
    {
     "name": "stdout",
     "output_type": "stream",
     "text": [
      "3 x 5 = 15\n",
      "3 x 6 = 18\n",
      "3 x 7 = 21\n"
     ]
    }
   ],
   "source": [
    "def mt(num,a,b):\n",
    "    for i in range(a, b+1):\n",
    "           print(num,'x',i,'=',num*i)\n",
    "            \n",
    "mt(3,5,7)"
   ]
  },
  {
   "cell_type": "markdown",
   "metadata": {},
   "source": [
    "### Problem 2 :\n",
    "\n",
    "#### Problemstatement:\n",
    "\n",
    "Procedure to print the list of factors of a given number.\n",
    "\n",
    "#### Constrains\n",
    "\n",
    "#### Testcases\n",
    "FactorList(6) -> 1 2 3 6\n",
    "FactorList (9) -> 1 3 9\n",
    "FactorList (19) -> 1 19\n"
   ]
  },
  {
   "cell_type": "code",
   "execution_count": 33,
   "metadata": {},
   "outputs": [
    {
     "name": "stdout",
     "output_type": "stream",
     "text": [
      "The factors of 6 are:\n",
      "1 \t2 \t3 \t6 \t"
     ]
    }
   ],
   "source": [
    "def fac(a):\n",
    "    print(\"The factors of\",a,\"are:\")\n",
    "    for i in range(1, a + 1):\n",
    "        if a % i == 0:\n",
    "               print(i,\"\\t\",end=\"\")\n",
    "            \n",
    "                      \n",
    "fac(6)\n"
   ]
  },
  {
   "cell_type": "markdown",
   "metadata": {},
   "source": [
    "### Problem 3:\n",
    "\n",
    "#### Probelmstatement:\n",
    "\n",
    "Procedure to check if a given number is Prime and returns a Boolean value.\n",
    "#### Constrains\n",
    "\n",
    "IsPrime(7) -> True\n",
    "IsPrime(9) -> False"
   ]
  },
  {
   "cell_type": "code",
   "execution_count": 34,
   "metadata": {},
   "outputs": [
    {
     "name": "stdout",
     "output_type": "stream",
     "text": [
      "its a prime \n"
     ]
    }
   ],
   "source": [
    "def prime(a):\n",
    "    \n",
    "    count = 1\n",
    "    for i in range(2, a):\n",
    "        if a%i == 0:\n",
    "            count = count+1\n",
    "    if count > 2 :\n",
    "        print (\"not a prime \")\n",
    "    else:\n",
    "        print (\"its a prime \")\n",
    "    \n",
    "    \n",
    "prime(17)\n"
   ]
  },
  {
   "cell_type": "markdown",
   "metadata": {},
   "source": [
    "### Problem 4:\n",
    "#### Problem statement:\n",
    "\n",
    "Procedure to count the number of digits in a given number.\n",
    "\n",
    "#### constrains:\n",
    "\n",
    "CountDigits(123456) -> 6\n",
    "CountDigits (0) -> "
   ]
  },
  {
   "cell_type": "code",
   "execution_count": null,
   "metadata": {},
   "outputs": [],
   "source": [
    "def dig(n):\n",
    "    count=0\n",
    "    while n>0:\n",
    "        n = n % 10\n",
    "        count = count+ 1\n",
    "        print(n)\n",
    "    \n",
    "dig(12)"
   ]
  },
  {
   "cell_type": "code",
   "execution_count": null,
   "metadata": {},
   "outputs": [],
   "source": [
    "def recursivepower(n, r):\n",
    "    if r==1:\n",
    "        return n\n",
    "    else:\n",
    "        return recursivepower(n, r-1) * n\n",
    "    \n",
    "recursivepower(2, 3)"
   ]
  },
  {
   "cell_type": "code",
   "execution_count": null,
   "metadata": {},
   "outputs": [],
   "source": [
    "### Towers of Hanoi"
   ]
  },
  {
   "cell_type": "code",
   "execution_count": null,
   "metadata": {},
   "outputs": [],
   "source": [
    "def moveTower(height,fromPole, toPole, withPole):\n",
    "    if height >= 1:\n",
    "        moveTower(height-1,fromPole,withPole,toPole)\n",
    "        moveDisk(fromPole,toPole)\n",
    "        moveTower(height-1,withPole,toPole,fromPole)\n",
    "\n",
    "def moveDisk(fp,tp):\n",
    "    print(\"moving disk from\",fp,\"to\",tp)\n",
    "\n",
    "moveTower(3,\"A\",\"B\",\"C\")\n"
   ]
  },
  {
   "cell_type": "code",
   "execution_count": null,
   "metadata": {},
   "outputs": [],
   "source": []
  },
  {
   "cell_type": "code",
   "execution_count": null,
   "metadata": {},
   "outputs": [],
   "source": []
  }
 ],
 "metadata": {
  "kernelspec": {
   "display_name": "Python 3",
   "language": "python",
   "name": "python3"
  },
  "language_info": {
   "codemirror_mode": {
    "name": "ipython",
    "version": 3
   },
   "file_extension": ".py",
   "mimetype": "text/x-python",
   "name": "python",
   "nbconvert_exporter": "python",
   "pygments_lexer": "ipython3",
   "version": "3.7.3"
  }
 },
 "nbformat": 4,
 "nbformat_minor": 2
}
