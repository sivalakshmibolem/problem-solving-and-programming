{
 "cells": [
  {
   "cell_type": "markdown",
   "metadata": {},
   "source": [
    "File handling/Data processing"
   ]
  },
  {
   "cell_type": "markdown",
   "metadata": {},
   "source": [
    "### Problem 1:\n",
    "#### problem statement:\n",
    "define a function to read data from a text file."
   ]
  },
  {
   "cell_type": "code",
   "execution_count": 62,
   "metadata": {},
   "outputs": [
    {
     "data": {
      "text/plain": [
       "'data in line1\\n'"
      ]
     },
     "execution_count": 62,
     "metadata": {},
     "output_type": "execute_result"
    }
   ],
   "source": [
    "def readfiledata(filename):\n",
    "    f = open(filename, 'r')\n",
    "     ###f = open(filename, 'r')\n",
    "    filedata = f.readline()\n",
    "    ###filedata += f.readline()\n",
    "    ### \n",
    "    f.close()\n",
    "    return filedata\n",
    "readfiledata('Datafiles/data1.txt')"
   ]
  },
  {
   "cell_type": "code",
   "execution_count": 60,
   "metadata": {},
   "outputs": [],
   "source": [
    "def readfiledata(filename):\n",
    "    with open(filename, 'r') as f:\n",
    "        ###for line in f:\n",
    "            ###print(line)\n",
    "            ###print(line, end = '')\n",
    "        print(f.read())\n",
    "    return\n",
    "\n",
    "\n",
    "def writefiledata(filename, data, mode):  ### append a file (filename, data, mode)\n",
    "    with open(filename, mode )as f:   ###(filename, 'w')\n",
    "        f.write(data)\n",
    "    return \n",
    "\n",
    "writefiledata('Datafiles/filewriten.txt', 'python programming\\n', 'a') ####(Datafiles/.txt', 'python programming)\n",
    "###readfiledata('Datafiles/Data.txt')"
   ]
  },
  {
   "cell_type": "code",
   "execution_count": null,
   "metadata": {},
   "outputs": [],
   "source": []
  },
  {
   "cell_type": "markdown",
   "metadata": {},
   "source": [
    "### Problem 2:\n",
    "#### problemstatement:\n",
    "\n",
    "define a function to generate a marks data file(text file)  for 1300 students such that each mark is entered in a new line.\n",
    "marks range from 0 to 100(inclusive).as random numbers"
   ]
  },
  {
   "cell_type": "code",
   "execution_count": 67,
   "metadata": {},
   "outputs": [],
   "source": [
    "import random\n",
    "\n",
    "def generatemarks(n, filename):\n",
    "    with open(filename, 'w')as marksfile:\n",
    "        for i in  range(0, n):\n",
    "            marks = random.randint(0, 100)\n",
    "            marksfile.write(str(marks) +'\\n')\n",
    "        return\n",
    "    \n",
    "generatemarks(1300,'Datafiles/marksdata.txt')"
   ]
  },
  {
   "cell_type": "code",
   "execution_count": null,
   "metadata": {},
   "outputs": [],
   "source": []
  },
  {
   "cell_type": "markdown",
   "metadata": {},
   "source": [
    " ### Problem 3:\n",
    "#### problemstatement:\n",
    "\n",
    "Generate a report on the marks data with the following indicaters\n",
    "    \n",
    "    \n",
    " Highest marks \n",
    "\n",
    "lowest marks\n",
    "\n",
    "average marks\n",
    "\n",
    "number of students with distinct(>80)\n",
    "\n",
    "number of students with first class(>70)\n",
    "\n",
    "number of students with second class(>60)\n",
    "\n",
    "number of students with third class(>40)\n",
    "\n",
    "Number of students is failed(<40)\n",
    "\n",
    "    "
   ]
  },
  {
   "cell_type": "code",
   "execution_count": 143,
   "metadata": {},
   "outputs": [
    {
     "ename": "SyntaxError",
     "evalue": "invalid syntax (<ipython-input-143-6a48939f2abb>, line 32)",
     "output_type": "error",
     "traceback": [
      "\u001b[1;36m  File \u001b[1;32m\"<ipython-input-143-6a48939f2abb>\"\u001b[1;36m, line \u001b[1;32m32\u001b[0m\n\u001b[1;33m    print('number of students distinct:' distinct)\u001b[0m\n\u001b[1;37m                                                ^\u001b[0m\n\u001b[1;31mSyntaxError\u001b[0m\u001b[1;31m:\u001b[0m invalid syntax\n"
     ]
    }
   ],
   "source": [
    "def marksreport(filename):\n",
    "    h=0\n",
    "    l=100\n",
    "    avg=0\n",
    "    count=0\n",
    "    sum1=0\n",
    "    disti=0\n",
    "    first=second=third=fail=0\n",
    "    with open(filename,'r') as f:\n",
    "        for line in f:\n",
    "            x= int(line)\n",
    "            if(x>h):\n",
    "                h=x\n",
    "            if(x>l):\n",
    "                 l=x\n",
    "            if(x>80):\n",
    "                distinct\n",
    "            if(x>70):\n",
    "                first \n",
    "            if(x>60):\n",
    "                second\n",
    "            if(x>40):\n",
    "                third \n",
    "            if(x<40):\n",
    "                fail\n",
    "            count +=1\n",
    "            sum +=1\n",
    "            fail +=1\n",
    "\n",
    "                \n",
    "print('highest','h', 'lowest','l' , 'Average','avg')  \n",
    "print('number of students distinct:' distinct)\n",
    "print('number of students with first class:' firstclass)\n",
    "print('number of students with second class:' secondclass)\n",
    "print('number of students with third class:' third class)\n",
    "print('Number of students is failed:' fail)            \n",
    "marksreport('marksdata.txt')"
   ]
  },
  {
   "cell_type": "code",
   "execution_count": 150,
   "metadata": {},
   "outputs": [
    {
     "data": {
      "text/plain": [
       "0.0005197810005483916"
      ]
     },
     "execution_count": 150,
     "metadata": {},
     "output_type": "execute_result"
    }
   ],
   "source": [
    "import re, timeit\n",
    "def generatemarksreport(marksfile):\n",
    "    start=timeit.default_timer()\n",
    "    marksdata =readfiledata(marksfile)\n",
    "    marksdata= re.split(r'\\n', marksdata)\n",
    "    marksdata = list(map(int, marksdata[:len(marksdata)-1]))\n",
    "    ###print(marksdata[2])\n",
    "    ###print(marksdata[len(marksdtata)-2])\n",
    "    ###print(type(marksdata[0]))  \n",
    "   ### print(max(marksdata))\n",
    "    return timeit.default_timer() - start\n",
    "generatemarksreport('marksdata.txt')   \n",
    "\n",
    "\n",
    "\n"
   ]
  },
  {
   "cell_type": "code",
   "execution_count": null,
   "metadata": {},
   "outputs": [],
   "source": []
  },
  {
   "cell_type": "code",
   "execution_count": 122,
   "metadata": {},
   "outputs": [
    {
     "data": {
      "text/plain": [
       "'1'"
      ]
     },
     "execution_count": 122,
     "metadata": {},
     "output_type": "execute_result"
    }
   ],
   "source": [
    "li=[1,2,3,4,5,6]\n",
    "#s=str(li)\n",
    "s= list(map(str,li))\n",
    "s[0]"
   ]
  },
  {
   "cell_type": "code",
   "execution_count": 135,
   "metadata": {},
   "outputs": [
    {
     "name": "stdout",
     "output_type": "stream",
     "text": [
      "0.00010813100016093813\n"
     ]
    },
    {
     "data": {
      "text/plain": [
       "'6'"
      ]
     },
     "execution_count": 135,
     "metadata": {},
     "output_type": "execute_result"
    }
   ],
   "source": [
    "import timeit\n",
    "def square(n):\n",
    "    return n*n\n",
    "st = timeit.default_timer()\n",
    "li=[1,2,3,4,5,6]\n",
    "#s=str(li)\n",
    "s= list(map(str,li))  ###square (square,li)\n",
    "print(timeit.default_timer()-st)\n",
    "s[5]"
   ]
  },
  {
   "cell_type": "code",
   "execution_count": null,
   "metadata": {},
   "outputs": [],
   "source": [
    "def distinction(mark):\n",
    "    return mark>=80\n",
    "\n",
    "dis = sum(map(distinction, marksdata))\n",
    "\n",
    "failed = sum(1 for i in marksdata if i < 40)\n",
    "\n"
   ]
  },
  {
   "cell_type": "code",
   "execution_count": null,
   "metadata": {},
   "outputs": [],
   "source": []
  }
 ],
 "metadata": {
  "kernelspec": {
   "display_name": "Python 3",
   "language": "python",
   "name": "python3"
  },
  "language_info": {
   "codemirror_mode": {
    "name": "ipython",
    "version": 3
   },
   "file_extension": ".py",
   "mimetype": "text/x-python",
   "name": "python",
   "nbconvert_exporter": "python",
   "pygments_lexer": "ipython3",
   "version": "3.7.3"
  }
 },
 "nbformat": 4,
 "nbformat_minor": 2
}
