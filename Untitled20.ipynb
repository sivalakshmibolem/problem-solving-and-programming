{
 "cells": [
  {
   "cell_type": "markdown",
   "metadata": {},
   "source": [
    "### Problem 1 :\n",
    "#### Problem Statement\n",
    "Design a procedure to determine the frequency count of numbers in a given list\n",
    "\n",
    "#### Test Cases\n",
    "* frequencyCount([1,3,2,1]) -> 1 : 2, 2 : 1, 3 : 1"
   ]
  },
  {
   "cell_type": "code",
   "execution_count": 1,
   "metadata": {},
   "outputs": [
    {
     "data": {
      "text/plain": [
       "{1: 2, 3: 1, 2: 1}"
      ]
     },
     "execution_count": 1,
     "metadata": {},
     "output_type": "execute_result"
    }
   ],
   "source": [
    "def frequencyCount(list1):\n",
    "    dict1 = {}\n",
    "    for i in list1:\n",
    "        count = 1\n",
    "        if(i in dict1):\n",
    "            dict1[i] += 1\n",
    "        else:\n",
    "            dict1[i] = 1\n",
    "    return dict1\n",
    "\n",
    "frequencyCount([1,3,2,1])"
   ]
  },
  {
   "cell_type": "markdown",
   "metadata": {},
   "source": [
    "### Problem 2 :\n",
    "#### Problem Statement\n",
    "You are given n words. Some words may repeat. For each word, output its number of occurrences. \n",
    "The output order should correspond with the input order of appearance of the word. \n",
    "First line of input contains the total number of words n. Next n lines contain words that need to processed. \n",
    "First line of the output should contain the total number distinct words. \n",
    "Second line of output must contain the frequency of words the same order of their appearance as in the input\n",
    "\n",
    "#### Test Cases\n",
    "Sample Input :  6\n",
    "    abcd\n",
    "    ijkl\n",
    "    abcd\n",
    "    pqrs\n",
    "    abcd\n",
    "    ijkl\n",
    "Sample Output :  3\n",
    "    3  2   1"
   ]
  },
  {
   "cell_type": "markdown",
   "metadata": {},
   "source": [
    "def  wordCount(wc, words):\n",
    "    j = 0\n",
    "    list1 = []\n",
    "    dict1 = {}\n",
    "    list2 = []\n",
    "    for i in range(0, len(words)):\n",
    "        if(words[i] == ' '):\n",
    "            list1.append(words[j:i])\n",
    "            j = i+1\n",
    "            \n",
    "    j = len(words)-1\n",
    "    for i in range(len(words)-1, -1, -1):\n",
    "        if(words[i] == ' '):\n",
    "            list1.append(words[i+1:j+1])\n",
    "            break\n",
    "\n",
    "    for i in list1:\n",
    "        if(i in dict1):\n",
    "            dict1[i] += 1\n",
    "            \n",
    "        else:\n",
    "            dict1[i] = 1\n",
    "            list2.append(i)\n",
    "            wcc = len(list2)\n",
    "            \n",
    "    print(wcc)\n",
    "    for i in dict1:\n",
    "        print(dict1[i], end = ' ')\n",
    "    \n",
    "wordCount(6, 'abcd ijkl abcd pqrs abcd ijkl')"
   ]
  },
  {
   "cell_type": "markdown",
   "metadata": {},
   "source": [
    "### Problem 2: \n",
    "\n",
    "#### Problem Statement: \n",
    "    For a given integer N. Find the least positive integer X made up of only 9's and 0's, such that, X is a multiple of N.\n",
    "#### Constraints\n",
    "\n",
    "#### Test Cases:\n",
    "\n",
    "Multiple( 5 ) -> 90\n",
    "Multiple ( 7 ) -> 9009\n",
    "Multiple( 1 ) -> 9\n"
   ]
  },
  {
   "cell_type": "code",
   "execution_count": 4,
   "metadata": {},
   "outputs": [
    {
     "name": "stdout",
     "output_type": "stream",
     "text": [
      "9\n"
     ]
    }
   ],
   "source": [
    "def Multiple(num):\n",
    "    i = 0\n",
    "    while(i >= 0):\n",
    "        str1 = str(i)\n",
    "        boolean = ('9' in str1 and '0' in str1) or ('9' in str1)\n",
    "        boolean1 = '1' in str1 or '2' in str1 or '3' in str1 or '4' in str1 or '5' in str1 or '6' in str1 or '7' in str1 or '8' in str1\n",
    "        boolean2='9' in str1 \n",
    "        if(boolean == True and boolean1 == False):\n",
    "            print(i)\n",
    "            break\n",
    "        i = i + num\n",
    "Multiple(1)\n"
   ]
  },
  {
   "cell_type": "markdown",
   "metadata": {},
   "source": [
    "### Problem 1:\n",
    "#### Problem Statement: \n",
    "\n",
    "For a given integer N, find the total number of Non - Prime Factors in the range (1, N) (both exclusive) that do not contain the digit 0\n",
    "\n",
    "#### Constraints:\n",
    "\n",
    "X is made up of one or more occurrences of 9 and zero or more occurrences of 0.\n",
    "\n",
    "#### Test Cases:\n",
    "\n",
    "nonPrimeFactorsCount( 100 ) -> 2\n",
    "nonPrimeFactorsCount( 50 ) ->\n"
   ]
  },
  {
   "cell_type": "code",
   "execution_count": 5,
   "metadata": {},
   "outputs": [
    {
     "name": "stdout",
     "output_type": "stream",
     "text": [
      "2\n"
     ]
    }
   ],
   "source": [
    "def nonPrimeFactorsCount(n):\n",
    "    a=[]\n",
    "    b=[]\n",
    "    \n",
    "    for i in range(2,n):\n",
    "        if(n%i==0):\n",
    "            a.append(i)    \n",
    "    for i in range(0,len(a)):\n",
    "        if(int(a[i]%10)!=0):\n",
    "            b.append(a[i])\n",
    "    for i in range(0,len(b)):\n",
    "        if((a[i]==1 or a[i]==2 or a[i] ==3 or a[i]==5 or a[i]==7) or(a[i]%2!=0  and a[i]%3!=0  and a[i]%5!=0  and a[i]%7!=0)): \n",
    "            b.remove(b[i])\n",
    "    print(len(b))\n",
    "\n",
    "nonPrimeFactorsCount(100)"
   ]
  },
  {
   "cell_type": "code",
   "execution_count": null,
   "metadata": {},
   "outputs": [],
   "source": []
  }
 ],
 "metadata": {
  "kernelspec": {
   "display_name": "Python 3",
   "language": "python",
   "name": "python3"
  },
  "language_info": {
   "codemirror_mode": {
    "name": "ipython",
    "version": 3
   },
   "file_extension": ".py",
   "mimetype": "text/x-python",
   "name": "python",
   "nbconvert_exporter": "python",
   "pygments_lexer": "ipython3",
   "version": "3.7.3"
  }
 },
 "nbformat": 4,
 "nbformat_minor": 2
}
