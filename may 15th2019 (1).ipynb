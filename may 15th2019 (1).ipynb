{
 "cells": [
  {
   "cell_type": "markdown",
   "metadata": {},
   "source": [
    "### package and modules\n",
    "\n",
    "package -collection of python script(. py)\n",
    "\n",
    "Module - A python script"
   ]
  },
  {
   "cell_type": "markdown",
   "metadata": {},
   "source": [
    "import PythonScripts.test \n",
    "\n",
    "PythonScripts.test.factorial(6)\n",
    "\n",
    "PythonScripts.test.sumN(100)"
   ]
  },
  {
   "cell_type": "markdown",
   "metadata": {},
   "source": []
  },
  {
   "cell_type": "code",
   "execution_count": null,
   "metadata": {},
   "outputs": [],
   "source": []
  },
  {
   "cell_type": "markdown",
   "metadata": {},
   "source": [
    "### Regular Expressions:\n",
    "\n",
    "\n",
    "^ - starting of string\n",
    "\n",
    "&- ending of the string\n",
    "\n",
    ".,* - any number of character \n",
    "\n",
    "\n",
    "\n",
    "\n",
    "\n",
    "  "
   ]
  },
  {
   "cell_type": "code",
   "execution_count": 14,
   "metadata": {},
   "outputs": [
    {
     "data": {
      "text/plain": [
       "list_iterator"
      ]
     },
     "execution_count": 14,
     "metadata": {},
     "output_type": "execute_result"
    }
   ],
   "source": [
    "iterable= iter([1,2,3])\n",
    "type(iterable)"
   ]
  },
  {
   "cell_type": "code",
   "execution_count": 18,
   "metadata": {},
   "outputs": [
    {
     "name": "stdout",
     "output_type": "stream",
     "text": [
      "match\n"
     ]
    }
   ],
   "source": [
    "import re\n",
    "\n",
    "pattern= '^g....'\n",
    "\n",
    "domain= 'google'\n",
    "\n",
    "if re.match(pattern, domain):\n",
    "    print ('match')\n",
    "else:\n",
    "    print('doesnt matches')"
   ]
  },
  {
   "cell_type": "code",
   "execution_count": 20,
   "metadata": {},
   "outputs": [
    {
     "name": "stdout",
     "output_type": "stream",
     "text": [
      "match\n"
     ]
    }
   ],
   "source": [
    "import re\n",
    "pattern= '^[a-z]{3,9}$'\n",
    "doamin ='glail'\n",
    "\n",
    "if re.match(pattern, domain):\n",
    "    print('match')\n",
    "else:\n",
    "    print('doesnot match')"
   ]
  },
  {
   "cell_type": "code",
   "execution_count": 24,
   "metadata": {},
   "outputs": [
    {
     "name": "stdout",
     "output_type": "stream",
     "text": [
      "match\n"
     ]
    }
   ],
   "source": [
    "import re\n",
    "pattern = '^[1-9][0-9]{5}$'\n",
    "domain  = '515004'\n",
    "\n",
    "if re.match(pattern,domain):\n",
    "    print('match')\n",
    "else:\n",
    "    print('does not match')"
   ]
  },
  {
   "cell_type": "code",
   "execution_count": 32,
   "metadata": {},
   "outputs": [
    {
     "name": "stdout",
     "output_type": "stream",
     "text": [
      "match\n"
     ]
    }
   ],
   "source": [
    "import re\n",
    "pattern = '^[9][1][7-9][0-9]{9}$'\n",
    "domain ='919848996622'\n",
    "\n",
    "if re.match(pattern,domain):\n",
    "    print('match')\n",
    "else:\n",
    "    print('does not match')"
   ]
  },
  {
   "cell_type": "markdown",
   "metadata": {},
   "source": [
    "### Problem:\n",
    "#### problemstatement:\n",
    "Define a function to validate email addresses based on the following rules.\n",
    "\n",
    "#### constrains:\n",
    "\n",
    "Email should be in the format username@domain.extension\n",
    "username must start with an alphabet and can contain lowercase alphabet, digits, hyphen(-) and underscores( _ ).\n",
    "username must not contain special characters, uppercase letters, whitespaces.\n",
    "Length of username must be in the range (6, 16)\n",
    "Domain can only contain lowercase alphabet and digits with length in range (3, 10) . No special characters are allowed\n",
    "Extension can only contain lower case alphabet and its length must be in the range (2, 4)\n",
    "First line of input contains total number of email addresses n. Next n lines contain n email addresses.\n",
    "Output must contain contain n lines with either 'Valid' or 'Invalid'\n",
    "\n",
    "#### test cases:\n",
    "\n",
    "Sample Input : 6\n",
    "abc456@gmail.com\n",
    "456abc@yahoo.com\n",
    "abc_456@gitam.ed1\n",
    "abc-456@abc-d.in\n",
    "python@python.edu\n",
    "abc 456@edu.edu\n",
    "Sample Output : Valid\n",
    "Invalid\n",
    "Invalid\n",
    "Invalid\n",
    "Valid\n",
    "Invalid\n"
   ]
  },
  {
   "cell_type": "code",
   "execution_count": 14,
   "metadata": {},
   "outputs": [
    {
     "name": "stdout",
     "output_type": "stream",
     "text": [
      "valid\n"
     ]
    }
   ],
   "source": [
    "import re \n",
    "pattern ='^[a-z][a-z0-9_-]{5,13}[a-z0-9][@][a-z0-9]{3,9}[.][a-z]{2,3}$'\n",
    "domain = 'lakshmi@gmail.com'\n",
    "\n",
    "if re.match(pattern, domain):\n",
    "    print('valid')\n",
    "else:\n",
    "    print('not valid')\n",
    "    "
   ]
  },
  {
   "cell_type": "markdown",
   "metadata": {},
   "source": []
  }
 ],
 "metadata": {
  "kernelspec": {
   "display_name": "Python 3",
   "language": "python",
   "name": "python3"
  },
  "language_info": {
   "codemirror_mode": {
    "name": "ipython",
    "version": 3
   },
   "file_extension": ".py",
   "mimetype": "text/x-python",
   "name": "python",
   "nbconvert_exporter": "python",
   "pygments_lexer": "ipython3",
   "version": "3.7.3"
  }
 },
 "nbformat": 4,
 "nbformat_minor": 2
}
