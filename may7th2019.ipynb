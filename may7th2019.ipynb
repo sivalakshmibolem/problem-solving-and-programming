{
 "cells": [
  {
   "cell_type": "markdown",
   "metadata": {},
   "source": [
    "### Problem 2:\n",
    "#### problemstatement:\n",
    "\n",
    "Design a procedure to identify all unique elements in an array\n",
    "\n",
    "#### testcases\n",
    "\n",
    "unique([1, 2, 3, 4, 3, 2, 1, 0, 0]) -> [1, 2, 3, 4, 0]\n",
    "unique([9]) -> [9]"
   ]
  },
  {
   "cell_type": "code",
   "execution_count": 6,
   "metadata": {},
   "outputs": [
    {
     "data": {
      "text/plain": [
       "[2, 1, 3, 4, 0]"
      ]
     },
     "execution_count": 6,
     "metadata": {},
     "output_type": "execute_result"
    }
   ],
   "source": [
    "def linearSearch(ulist1, key):\n",
    "    boolean = False\n",
    "    for i in range(0, len(ulist1)):\n",
    "        if(ulist1[i] == key):\n",
    "            return True\n",
    "    return False\n",
    "\n",
    "def uniqueElements(list1):\n",
    "    ulist1 = []\n",
    "    ulist1.append(list1[1])\n",
    "    for i in range(0, len(list1)):\n",
    "        if((linearSearch(ulist1, list1[i]) == False)): \n",
    "            ulist1.append(list1[i])\n",
    "    return ulist1\n",
    "\n",
    "uniqueElements([1, 2, 3, 4, 3, 2, 1, 0, 0])\n"
   ]
  },
  {
   "cell_type": "markdown",
   "metadata": {},
   "source": [
    "### Problem 3:\n",
    "#### problemstatement:\n",
    "\n",
    "Design a procedure to sort a given array in ascending order\n",
    "\n",
    "#### testcases: \n",
    "\n",
    "sort([3, 2, 1, 4, 4, 5, 6]) -> [1, 2, 3, 4, 4, 5, 6]\n",
    "sort([1, 2, 3]) -> [1, 2, 3]"
   ]
  },
  {
   "cell_type": "code",
   "execution_count": 5,
   "metadata": {},
   "outputs": [
    {
     "data": {
      "text/plain": [
       "[1, 2, 3, 4, 4, 5, 6]"
      ]
     },
     "execution_count": 5,
     "metadata": {},
     "output_type": "execute_result"
    }
   ],
   "source": [
    "def sortElements(list1):\n",
    "    for i in range(0, len(list1)-1):\n",
    "        for j in range(0, len(list1)-i-1):\n",
    "            if(list1[j] > list1[j+1]):\n",
    "                temp = list1[j]\n",
    "                list1[j] = list1[j+1]\n",
    "                list1[j+1] = temp\n",
    "    return list1\n",
    "\n",
    "sortElements([3, 2, 1, 4, 4, 5, 6])"
   ]
  },
  {
   "cell_type": "code",
   "execution_count": null,
   "metadata": {},
   "outputs": [],
   "source": []
  }
 ],
 "metadata": {
  "kernelspec": {
   "display_name": "Python 3",
   "language": "python",
   "name": "python3"
  },
  "language_info": {
   "codemirror_mode": {
    "name": "ipython",
    "version": 3
   },
   "file_extension": ".py",
   "mimetype": "text/x-python",
   "name": "python",
   "nbconvert_exporter": "python",
   "pygments_lexer": "ipython3",
   "version": "3.7.3"
  }
 },
 "nbformat": 4,
 "nbformat_minor": 2
}
