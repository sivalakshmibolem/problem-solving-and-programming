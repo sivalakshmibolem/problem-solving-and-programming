{
 "cells": [
  {
   "cell_type": "markdown",
   "metadata": {},
   "source": [
    "### Problem 1:\n",
    "#### problemstatement:\n",
    "Design a procedure calculate the maximum, minimum and average of N numbers.\n",
    "\n",
    "data( a[1,2,3,4,5] ) -> Max = 5, Min = 1, Avg = 3"
   ]
  },
  {
   "cell_type": "code",
   "execution_count": 2,
   "metadata": {},
   "outputs": [
    {
     "name": "stdout",
     "output_type": "stream",
     "text": [
      "1\n",
      "5\n",
      "3.0\n"
     ]
    }
   ],
   "source": [
    "def array(a):\n",
    "    print(min(a))\n",
    "    print(max(a))\n",
    "    sum=0\n",
    "    for i in range(0,len(a)):\n",
    "        sum=sum+a[i] \n",
    "        avg=sum/len(a)\n",
    "    print(avg)\n",
    "    \n",
    "array([1,2,3,4,5])"
   ]
  },
  {
   "cell_type": "markdown",
   "metadata": {},
   "source": [
    "### Problem 2:\n",
    "#### problemstatement:\n",
    "\n",
    "Design a procedure to perform Linear search on list of N unsorted numbers. \n",
    "It take an array and the key element to be searched and returns the index of the element of key element if found. \n",
    "Else returns -1\n",
    "#### Constrains:\n",
    "LinearSearch( a[5,4,3,2,1], 4) -> 2\n",
    "LinearSearch( a[90, 123, 324, 21, 56], 22) -> -1"
   ]
  },
  {
   "cell_type": "code",
   "execution_count": 4,
   "metadata": {},
   "outputs": [
    {
     "name": "stdout",
     "output_type": "stream",
     "text": [
      "1\n",
      "-1\n"
     ]
    }
   ],
   "source": [
    "def linearSearch(a,key):\n",
    "    for i in range (0,len(a)):\n",
    "        if(a[i]==key):\n",
    "            return i\n",
    "    return -1\n",
    "print(linearSearch( [5,4,3,2,1], 4))\n",
    "print(linearSearch( [90, 123, 324, 21, 56], 22))"
   ]
  },
  {
   "cell_type": "markdown",
   "metadata": {},
   "source": [
    "### Problem 3:\n",
    "#### problemstatement:\n",
    "\n",
    "Design a procedure to determine if a given string is a Palindrome\n",
    "\n",
    "#### Testcases:\n",
    "\n",
    "Palindrome(\"racecar\") -> True\n",
    "Palindrome(\"raptor\") -> False"
   ]
  },
  {
   "cell_type": "code",
   "execution_count": 1,
   "metadata": {},
   "outputs": [
    {
     "data": {
      "text/plain": [
       "True"
      ]
     },
     "execution_count": 1,
     "metadata": {},
     "output_type": "execute_result"
    }
   ],
   "source": [
    "def isPalindrome(string):\n",
    "    for i in string:\n",
    "        return(string == string[::-1])\n",
    "isPalindrome(\"racecar\")"
   ]
  },
  {
   "cell_type": "markdown",
   "metadata": {},
   "source": [
    "### program 6:\n",
    "####programstatement:\n",
    "\n",
    "Design a procedure to determine the frequency count of numbers in a given list\n",
    "\n",
    "#### Testcases:\n",
    "Frequency( a[1,3,2,1] ) -> 1 : 2, 2 : 1, 3 : 1"
   ]
  },
  {
   "cell_type": "code",
   "execution_count": 2,
   "metadata": {},
   "outputs": [
    {
     "data": {
      "text/plain": [
       "{1: 2, 3: 1, 2: 1}"
      ]
     },
     "execution_count": 2,
     "metadata": {},
     "output_type": "execute_result"
    }
   ],
   "source": [
    "def frequencyCount(list1):\n",
    "    dict1 = {}\n",
    "    for i in list1:\n",
    "        count = 1\n",
    "        if(i in dict1):\n",
    "            dict1[i] += 1\n",
    "        else:\n",
    "            dict1[i] = 1\n",
    "    return dict1\n",
    "\n",
    "frequencyCount([1,3,2,1])"
   ]
  },
  {
   "cell_type": "markdown",
   "metadata": {},
   "source": [
    "### Problem 4:\n",
    "#### Problem statement :\n",
    "\n",
    "Design a procedure to calculate the squareroot of a number \"without using the math function sqrt\".\n",
    "\n",
    "#### Testcases:\n",
    "\n",
    "Squareroot(36) -> 6"
   ]
  },
  {
   "cell_type": "code",
   "execution_count": 4,
   "metadata": {},
   "outputs": [
    {
     "data": {
      "text/plain": [
       "6.0"
      ]
     },
     "execution_count": 4,
     "metadata": {},
     "output_type": "execute_result"
    }
   ],
   "source": [
    "def squareRoot(n):\n",
    "    return n**(0.5)\n",
    "squareRoot(36)"
   ]
  }
 ],
 "metadata": {
  "kernelspec": {
   "display_name": "Python 3",
   "language": "python",
   "name": "python3"
  },
  "language_info": {
   "codemirror_mode": {
    "name": "ipython",
    "version": 3
   },
   "file_extension": ".py",
   "mimetype": "text/x-python",
   "name": "python",
   "nbconvert_exporter": "python",
   "pygments_lexer": "ipython3",
   "version": "3.7.3"
  }
 },
 "nbformat": 4,
 "nbformat_minor": 2
}
